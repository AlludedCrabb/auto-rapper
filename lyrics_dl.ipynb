{
 "cells": [
  {
   "cell_type": "code",
   "execution_count": 1,
   "metadata": {},
   "outputs": [
    {
     "name": "stdout",
     "output_type": "stream",
     "text": [
      "Collecting lyricsgenius\n",
      "  Downloading https://files.pythonhosted.org/packages/c2/91/9631c99021f1a8dd04c8432c95de2c885a673702c9a65329f274522bdf43/lyricsgenius-1.5.1-py3-none-any.whl\n",
      "Requirement already satisfied: requests>=2.20.0 in /anaconda3/envs/learn-env/lib/python3.7/site-packages (from lyricsgenius) (2.21.0)\n",
      "Collecting beautifulsoup4==4.6.0 (from lyricsgenius)\n",
      "\u001b[?25l  Downloading https://files.pythonhosted.org/packages/9e/d4/10f46e5cfac773e22707237bfcd51bbffeaf0a576b0a847ec7ab15bd7ace/beautifulsoup4-4.6.0-py3-none-any.whl (86kB)\n",
      "\u001b[K    100% |████████████████████████████████| 92kB 3.8MB/s \n",
      "\u001b[?25hRequirement already satisfied: chardet<3.1.0,>=3.0.2 in /anaconda3/envs/learn-env/lib/python3.7/site-packages (from requests>=2.20.0->lyricsgenius) (3.0.4)\n",
      "Requirement already satisfied: urllib3<1.25,>=1.21.1 in /anaconda3/envs/learn-env/lib/python3.7/site-packages (from requests>=2.20.0->lyricsgenius) (1.24.1)\n",
      "Requirement already satisfied: idna<2.9,>=2.5 in /anaconda3/envs/learn-env/lib/python3.7/site-packages (from requests>=2.20.0->lyricsgenius) (2.8)\n",
      "Requirement already satisfied: certifi>=2017.4.17 in /anaconda3/envs/learn-env/lib/python3.7/site-packages (from requests>=2.20.0->lyricsgenius) (2019.3.9)\n",
      "Installing collected packages: beautifulsoup4, lyricsgenius\n",
      "  Found existing installation: beautifulsoup4 4.7.1\n",
      "    Uninstalling beautifulsoup4-4.7.1:\n",
      "      Successfully uninstalled beautifulsoup4-4.7.1\n",
      "Successfully installed beautifulsoup4-4.6.0 lyricsgenius-1.5.1\n"
     ]
    }
   ],
   "source": [
    "!pip install lyricsgenius"
   ]
  },
  {
   "cell_type": "code",
   "execution_count": 4,
   "metadata": {},
   "outputs": [],
   "source": [
    "import lyricsgenius as lg\n",
    "import json\n",
    "\n",
    "api = {}\n",
    "path = \"/Users/dakaspar/flatiron/projects/auto-rapper/.secret/api_key.json\"\n",
    "\n",
    "with open(path) as f:\n",
    "    temp_api = json.load(f)\n",
    "    secret = temp_api['secret']\n",
    "    api_id = temp_api['id']\n",
    "    token = temp_api['token']\n",
    "    \n"
   ]
  }
 ],
 "metadata": {
  "kernelspec": {
   "display_name": "learn-env",
   "language": "python",
   "name": "learn-env"
  },
  "language_info": {
   "codemirror_mode": {
    "name": "ipython",
    "version": 3
   },
   "file_extension": ".py",
   "mimetype": "text/x-python",
   "name": "python",
   "nbconvert_exporter": "python",
   "pygments_lexer": "ipython3",
   "version": "3.7.3"
  }
 },
 "nbformat": 4,
 "nbformat_minor": 2
}
